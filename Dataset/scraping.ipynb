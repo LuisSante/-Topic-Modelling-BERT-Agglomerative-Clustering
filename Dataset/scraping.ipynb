{
 "cells": [
  {
   "cell_type": "code",
   "execution_count": 4,
   "metadata": {},
   "outputs": [],
   "source": [
    "from google_play_scraper import Sort, reviews\n",
    "\n",
    "result, continuation_token = reviews(\n",
    "    'com.google.android.apps.classroom',\n",
    "    lang='en',\n",
    "    country='us', \n",
    "    sort=Sort.NEWEST,\n",
    "    count=20000,\n",
    "    filter_score_with=1\n",
    ")"
   ]
  },
  {
   "cell_type": "code",
   "execution_count": 5,
   "metadata": {},
   "outputs": [
    {
     "name": "stdout",
     "output_type": "stream",
     "text": [
      "                                               sentences\n",
      "0                                                  L app\n",
      "1      my grandma had a seizure and died because of y...\n",
      "2      The pdf scanner keeps croping pages so I need ...\n",
      "3                                                  L app\n",
      "4                                          Faking auafel\n",
      "...                                                  ...\n",
      "19995  They make me do unwanted class work like the o...\n",
      "19996                                                Yuh\n",
      "19997                                                 Cg\n",
      "19998                                             Lame!!\n",
      "19999  I keep getting comments saying I need to do wo...\n",
      "\n",
      "[20000 rows x 1 columns]\n"
     ]
    }
   ],
   "source": [
    "import pandas as pd\n",
    "\n",
    "dataset = pd.DataFrame(result)\n",
    "\n",
    "sentences = {\n",
    "    'sentences': dataset['content']\n",
    "}\n",
    "\n",
    "corpus = pd.DataFrame(sentences)\n",
    "print(corpus)"
   ]
  },
  {
   "cell_type": "code",
   "execution_count": 6,
   "metadata": {},
   "outputs": [],
   "source": [
    "data_corpus = corpus.to_csv('dataset_classroom.csv', index=False)"
   ]
  }
 ],
 "metadata": {
  "kernelspec": {
   "display_name": "Python 3.10.7 64-bit",
   "language": "python",
   "name": "python3"
  },
  "language_info": {
   "codemirror_mode": {
    "name": "ipython",
    "version": 3
   },
   "file_extension": ".py",
   "mimetype": "text/x-python",
   "name": "python",
   "nbconvert_exporter": "python",
   "pygments_lexer": "ipython3",
   "version": "3.10.7"
  },
  "orig_nbformat": 4,
  "vscode": {
   "interpreter": {
    "hash": "c63d8c7d738c2960218a10995aedf0a7f67a49a231e71037adf0440953cdb45b"
   }
  }
 },
 "nbformat": 4,
 "nbformat_minor": 2
}
